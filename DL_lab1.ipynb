{
  "nbformat": 4,
  "nbformat_minor": 0,
  "metadata": {
    "colab": {
      "provenance": [],
      "authorship_tag": "ABX9TyO0FUHFDvrR/2QEj/wNcFR9"
    },
    "kernelspec": {
      "name": "python3",
      "display_name": "Python 3"
    },
    "language_info": {
      "name": "python"
    }
  },
  "cells": [
    {
      "cell_type": "code",
      "source": [
        "import torch\n",
        "import torch.nn as nn\n",
        "import torch.optim as optim\n",
        "import torch.nn.functional as F\n",
        "from torch.utils.data import TensorDataset, DataLoader\n",
        "import numpy as np\n",
        "from matplotlib import pyplot\n",
        "import pandas as pd\n",
        "from sklearn.model_selection import train_test_split\n",
        "from sklearn.feature_extraction.text import TfidfVectorizer\n",
        "from nltk.corpus import stopwords\n",
        "from nltk import word_tokenize\n",
        "from sklearn.metrics import accuracy_score, confusion_matrix, precision_score, recall_score, classification_report"
      ],
      "metadata": {
        "id": "Ts5rnSUZHHQ1"
      },
      "execution_count": null,
      "outputs": []
    },
    {
      "cell_type": "markdown",
      "source": [
        "# Task 1.1 Simple chatbot"
      ],
      "metadata": {
        "id": "W1NRSKHI034p"
      }
    },
    {
      "cell_type": "markdown",
      "source": [
        "# Load and preprocess data"
      ],
      "metadata": {
        "id": "SHlaDAVvFoxb"
      }
    },
    {
      "cell_type": "code",
      "execution_count": null,
      "metadata": {
        "id": "Vecgo9StF8YY"
      },
      "outputs": [],
      "source": [
        "def preprocess_pandas(data, columns):\n",
        "    df_ = pd.DataFrame(columns=columns)\n",
        "    data['Sentence'] = data['Sentence'].str.lower()\n",
        "    data['Sentence'] = data['Sentence'].replace('[a-zA-Z0-9-_.]+@[a-zA-Z0-9-_.]+', '', regex=True)                      # remove emails\n",
        "    data['Sentence'] = data['Sentence'].replace('((25[0-5]|2[0-4][0-9]|[01]?[0-9][0-9]?)(\\.|$)){4}', '', regex=True)    # remove IP address\n",
        "    data['Sentence'] = data['Sentence'].str.replace('[^\\w\\s]','')                                                       # remove special characters\n",
        "    data['Sentence'] = data['Sentence'].replace('\\d', '', regex=True)                                                   # remove numbers\n",
        "    for index, row in data.iterrows():\n",
        "        word_tokens = word_tokenize(row['Sentence'])\n",
        "        filtered_sent = [w for w in word_tokens if not w in stopwords.words('english')]\n",
        "        df_ = pd.concat([df_, pd.DataFrame({\n",
        "            \"index\": row['index'],\n",
        "            \"Class\": row['Class'],\n",
        "            \"Sentence\": \" \".join(filtered_sent[0:])\n",
        "        }, index = [row['index']])],ignore_index=True)\n",
        "    return df_"
      ]
    },
    {
      "cell_type": "code",
      "source": [
        "# get data, pre-process and split\n",
        "data = pd.read_csv(\"amazon_cells_labelled.txt\", delimiter='\\t', header=None)\n",
        "data.columns = ['Sentence', 'Class']\n",
        "data['index'] = data.index                                          # add new column index\n",
        "columns = ['index', 'Class', 'Sentence']"
      ],
      "metadata": {
        "id": "gUJ7870nG5XP"
      },
      "execution_count": null,
      "outputs": []
    },
    {
      "cell_type": "code",
      "source": [
        "# Import the NLTK library\n",
        "import nltk\n",
        "nltk.download('punkt')\n",
        "nltk.download('stopwords')\n",
        "data = preprocess_pandas(data, columns)                             # pre-process\n"
      ],
      "metadata": {
        "colab": {
          "base_uri": "https://localhost:8080/"
        },
        "id": "T4N7c4qRIGA2",
        "outputId": "32e6ed4e-6f94-4e13-9799-174313d47353"
      },
      "execution_count": null,
      "outputs": [
        {
          "output_type": "stream",
          "name": "stderr",
          "text": [
            "[nltk_data] Downloading package punkt to /root/nltk_data...\n",
            "[nltk_data]   Unzipping tokenizers/punkt.zip.\n",
            "[nltk_data] Downloading package stopwords to /root/nltk_data...\n",
            "[nltk_data]   Unzipping corpora/stopwords.zip.\n"
          ]
        }
      ]
    },
    {
      "cell_type": "code",
      "source": [
        "training_data_r, validation_data_r, training_labels, validation_labels = train_test_split( # split the data into training, validation, and test splits\n",
        "        data['Sentence'].values.astype('U'),\n",
        "        data['Class'].values.astype('int32'),\n",
        "        test_size=0.10,\n",
        "        random_state=0,\n",
        "        shuffle=True\n",
        "    )"
      ],
      "metadata": {
        "id": "7UOkYJVsIeq2"
      },
      "execution_count": null,
      "outputs": []
    },
    {
      "cell_type": "code",
      "source": [
        "# vectorize data using TFIDF and transform for PyTorch for scalability\n",
        "word_vectorizer = TfidfVectorizer(analyzer='word', ngram_range=(1,2), max_features=50000, max_df=0.5, use_idf=True, norm='l2')\n",
        "training_data = word_vectorizer.fit_transform(training_data_r)        # transform texts to sparse matrix\n",
        "training_data = training_data.todense()                             # convert to dense matrix for Pytorch\n",
        "\n",
        "vocab_size = len(word_vectorizer.vocabulary_)\n",
        "\n",
        "validation_data = word_vectorizer.transform(validation_data_r)\n",
        "validation_data = validation_data.todense()\n",
        "\n",
        "train_x_tensor = torch.from_numpy(np.array(training_data)).type(torch.FloatTensor)\n",
        "train_y_tensor = torch.from_numpy(np.array(training_labels)).long()\n",
        "\n",
        "validation_x_tensor = torch.from_numpy(np.array(validation_data)).type(torch.FloatTensor)\n",
        "validation_y_tensor = torch.from_numpy(np.array(validation_labels)).long()"
      ],
      "metadata": {
        "id": "ImZ9MIsBPNts"
      },
      "execution_count": null,
      "outputs": []
    },
    {
      "cell_type": "markdown",
      "source": [
        "# LSTM model"
      ],
      "metadata": {
        "id": "Ah7dtSuDFlT4"
      }
    },
    {
      "cell_type": "code",
      "source": [
        "import torch\n",
        "import torch.nn as nn\n",
        "import torch.nn.functional as F\n",
        "import random\n",
        "\n",
        "out_nr = 2\n",
        "\n",
        "class LSTM(nn.Module):\n",
        "    def __init__(self, hidden_size = 25):\n",
        "        super(LSTM, self).__init__()\n",
        "        num_layers = 1\n",
        "        # Recurrent layer\n",
        "        self.lstm = nn.LSTM(input_size=vocab_size,\n",
        "                         hidden_size=hidden_size,\n",
        "                         num_layers=num_layers,\n",
        "                         bidirectional=False)\n",
        "\n",
        "        # Output layer\n",
        "        self.l_out = nn.Linear(in_features=hidden_size,\n",
        "                            out_features=out_nr,\n",
        "                            bias=False)\n",
        "\n",
        "    def forward(self, x):\n",
        "        # RNN returns output and last hidden state\n",
        "        x, (h, c) = self.lstm(x)\n",
        "\n",
        "        # Flatten output for feed-forward layer\n",
        "        x = x.view(-1, self.lstm.hidden_size)\n",
        "\n",
        "        # Output layer\n",
        "        x = self.l_out(x)\n",
        "\n",
        "        return x\n",
        "\n",
        "    def generate_resp(self,x):\n",
        "      response = {0:[\"sorry for the bad experience\", \"please contact the service for help\", \"We are improving\"],\n",
        "                  1:[\"Thank you for the feedback\", \"we are glad you like it\"]}\n",
        "      output = self.forward(x)\n",
        "      analysis = np.argmax(output[0].detach().numpy())\n",
        "      print(random.choice(response[analysis]))\n",
        "\n"
      ],
      "metadata": {
        "id": "tkyZ8WUrFGWD"
      },
      "execution_count": null,
      "outputs": []
    },
    {
      "cell_type": "code",
      "source": [
        "# Initialise our network\n",
        "model = LSTM()\n",
        "print(model)\n",
        "min_LSTM_loss = 10000\n",
        "\n",
        "# Define a loss function and optimizer for this problem\n",
        "criterion = nn.CrossEntropyLoss()\n",
        "# criterion = nn.BCELoss()\n",
        "optimizer = torch.optim.Adam(model.parameters(), lr=1e-3)\n"
      ],
      "metadata": {
        "colab": {
          "base_uri": "https://localhost:8080/"
        },
        "id": "pDZaazAOGCfV",
        "outputId": "68f28660-8869-4834-9631-dd77562604eb"
      },
      "execution_count": null,
      "outputs": [
        {
          "output_type": "stream",
          "name": "stdout",
          "text": [
            "LSTM(\n",
            "  (lstm): LSTM(5145, 25)\n",
            "  (l_out): Linear(in_features=25, out_features=2, bias=False)\n",
            ")\n"
          ]
        }
      ]
    },
    {
      "cell_type": "code",
      "source": [
        "# one hot encode label\n",
        "to_onehot = nn.Embedding(1, 2)\n",
        "to_onehot.weight.data = torch.eye(2)"
      ],
      "metadata": {
        "id": "NBIcj5zFXR8P"
      },
      "execution_count": null,
      "outputs": []
    },
    {
      "cell_type": "code",
      "source": [
        "# Hyper-parameters\n",
        "num_epochs = 10\n",
        "\n",
        "import matplotlib.pyplot as plt\n",
        "%matplotlib inline\n",
        "\n",
        "# Store training and validation loss\n",
        "training_loss, validation_loss = [], []\n",
        "# For each epoch\n",
        "for i in range(num_epochs):\n",
        "\n",
        "    # Track loss\n",
        "    epoch_training_loss = 0\n",
        "    epoch_validation_loss = 0\n",
        "\n",
        "    model.eval()\n",
        "\n",
        "    # For each sentence in validation set\n",
        "    correct = 0\n",
        "    for n in range(len(validation_x_tensor)):\n",
        "\n",
        "        # Forward pass\n",
        "        outputs = model.forward(validation_x_tensor[n].reshape(1,vocab_size))\n",
        "\n",
        "        # accuracy\n",
        "        label = validation_y_tensor[n].item()\n",
        "\n",
        "        if np.argmax(outputs[0].detach().numpy()) == label:\n",
        "          correct += 1\n",
        "\n",
        "        loss = criterion(outputs[0], to_onehot(validation_y_tensor[n]))\n",
        "\n",
        "        # Update loss\n",
        "        epoch_validation_loss += loss.detach().numpy()\n",
        "    correct = correct /len(validation_x_tensor)\n",
        "\n",
        "    model.train()\n",
        "\n",
        "    # For each sentence in training set\n",
        "    for m in range(len(train_x_tensor)):\n",
        "\n",
        "        # Forward pass\n",
        "        outputs = model.forward(train_x_tensor[m].reshape(1,vocab_size))\n",
        "\n",
        "        # Compute loss\n",
        "\n",
        "        loss = criterion(outputs[0], to_onehot(train_y_tensor[m]))\n",
        "\n",
        "        # Reset gradients\n",
        "\n",
        "        optimizer.zero_grad()\n",
        "        # Compute gradients\n",
        "\n",
        "        loss.backward()\n",
        "        # Update weights\n",
        "\n",
        "        optimizer.step()\n",
        "\n",
        "        # Update loss\n",
        "        epoch_training_loss += loss.detach().numpy()\n",
        "\n",
        "\n",
        "    # Save loss for plot\n",
        "    training_loss.append(epoch_training_loss/len(train_x_tensor))\n",
        "    validation_loss.append(epoch_validation_loss/len(validation_x_tensor))\n",
        "\n",
        "    # save best model\n",
        "    if epoch_validation_loss < min_LSTM_loss:\n",
        "        torch.save(model, 'best_model.pt')\n",
        "    # Print loss every 5 epochs\n",
        "    if i % 1 == 0:\n",
        "        print(f'Epoch {i}, training loss: {training_loss[-1]}, validation loss: {validation_loss[-1]}, validation accuracy: {correct*100}%')\n",
        "\n",
        "# Plot training and validation loss\n",
        "epoch = np.arange(len(training_loss))\n",
        "\n",
        "# Forward pass\n",
        "best_model = LSTM()\n",
        "best_model = torch.load('best_model.pt')"
      ],
      "metadata": {
        "id": "Wcul7eD8GDT2",
        "outputId": "5c8ce3a5-86d5-44e2-d91e-8bd564cde083",
        "colab": {
          "base_uri": "https://localhost:8080/"
        }
      },
      "execution_count": null,
      "outputs": [
        {
          "output_type": "stream",
          "name": "stdout",
          "text": [
            "Epoch 0, training loss: 0.6790978514154752, validation loss: 0.6897345161437989, validation accuracy: 54.0%\n",
            "Epoch 1, training loss: 0.4010841488853718, validation loss: 0.6124756065011024, validation accuracy: 81.0%\n",
            "Epoch 2, training loss: 0.09976680809347171, validation loss: 0.3440326532823383, validation accuracy: 85.0%\n",
            "Epoch 3, training loss: 0.03147139638889914, validation loss: 0.3386774215418154, validation accuracy: 85.0%\n",
            "Epoch 4, training loss: 0.014646132247633925, validation loss: 0.3498183977561257, validation accuracy: 87.0%\n",
            "Epoch 5, training loss: 0.008180240847468849, validation loss: 0.369601359378766, validation accuracy: 87.0%\n",
            "Epoch 6, training loss: 0.0054304974126962455, validation loss: 0.3964036216865906, validation accuracy: 88.0%\n",
            "Epoch 7, training loss: 0.004362337924272153, validation loss: 0.4238140055516243, validation accuracy: 88.0%\n",
            "Epoch 8, training loss: 0.003949379507061279, validation loss: 0.44058736296397655, validation accuracy: 86.0%\n",
            "Epoch 9, training loss: 0.0037059816749749866, validation loss: 0.4492302112496872, validation accuracy: 86.0%\n"
          ]
        }
      ]
    },
    {
      "cell_type": "code",
      "source": [
        "# plot loss curve\n",
        "plt.figure()\n",
        "plt.plot(epoch, training_loss, 'r', label='Training loss',)\n",
        "plt.plot(epoch, validation_loss, 'b', label='Validation loss')\n",
        "plt.legend()\n",
        "plt.xlabel('Epoch'), plt.ylabel('NLL')\n",
        "plt.show()"
      ],
      "metadata": {
        "colab": {
          "base_uri": "https://localhost:8080/",
          "height": 449
        },
        "id": "xcunZPedZPTS",
        "outputId": "4e2f94c9-a471-40c5-9d15-f5274d25134f"
      },
      "execution_count": null,
      "outputs": [
        {
          "output_type": "display_data",
          "data": {
            "text/plain": [
              "<Figure size 640x480 with 1 Axes>"
            ],
            "image/png": "[encoded data removed]"
          },
          "metadata": {}
        }
      ]
    },
    {
      "cell_type": "code",
      "source": [
        "# Get first sentence in validation set\n",
        "inputs, targets = validation_x_tensor[0], validation_y_tensor[0]\n",
        "outputs = best_model.forward(inputs.reshape(1,vocab_size)).data.numpy()\n",
        "\n",
        "print('\\nInput sequence:')\n",
        "print(validation_data_r[0])\n",
        "\n",
        "print('\\nTarget sequence:')\n",
        "print(targets)\n",
        "\n",
        "preds = np.argmax(outputs)\n",
        "print('\\nPredicted sequence:')\n",
        "print(preds)\n",
        "\n",
        "print('\\nChatbot response:')\n",
        "best_model.generate_resp(inputs.reshape(1,vocab_size))"
      ],
      "metadata": {
        "colab": {
          "base_uri": "https://localhost:8080/"
        },
        "id": "WUeYrzDGaJlO",
        "outputId": "c88c2342-fff5-4fa4-b177-9775b25fec45"
      },
      "execution_count": null,
      "outputs": [
        {
          "output_type": "stream",
          "name": "stdout",
          "text": [
            "\n",
            "Input sequence:\n",
            "disappointed .\n",
            "\n",
            "Target sequence:\n",
            "tensor(0)\n",
            "\n",
            "Predicted sequence:\n",
            "0\n",
            "\n",
            "Chatbot response:\n",
            "please contact the service for help\n"
          ]
        }
      ]
    },
    {
      "cell_type": "markdown",
      "source": [
        "# Task 1.2 Transformer"
      ],
      "metadata": {
        "id": "hXJH1Qzc0_Sb"
      }
    },
    {
      "cell_type": "markdown",
      "source": [
        "Refer to https://www.youtube.com/watch?v=kCc8FmEb1nY"
      ],
      "metadata": {
        "id": "NujLulMiBO_X"
      }
    },
    {
      "cell_type": "markdown",
      "source": [
        "In our implementation, there is only decoder and self-attention (no cross-attention)"
      ],
      "metadata": {
        "id": "3aM5Ai-goFDX"
      }
    },
    {
      "cell_type": "code",
      "source": [
        "# hyperparameters\n",
        "batch_size = 16 # how many independent sequences will we process in parallel?\n",
        "block_size = 32 # what is the maximum context length for predictions?\n",
        "max_iters = 5000\n",
        "eval_interval = 100\n",
        "learning_rate = 1e-3\n",
        "device = 'cuda' if torch.cuda.is_available() else 'cpu'\n",
        "eval_iters = 200\n",
        "n_embd = 64\n",
        "n_head = 4\n",
        "n_layer = 4\n",
        "dropout = 0.0"
      ],
      "metadata": {
        "id": "IyyNu88c1GTU"
      },
      "execution_count": null,
      "outputs": []
    },
    {
      "cell_type": "code",
      "source": [
        "torch.manual_seed(1337)\n",
        "\n",
        "!wget https://raw.githubusercontent.com/karpathy/char-rnn/master/data/tinyshakespeare/input.txt\n",
        "with open('input.txt', 'r', encoding='utf-8') as f:\n",
        "    text = f.read()\n",
        "\n",
        "# here are all the unique characters that occur in this text\n",
        "chars = sorted(list(set(text)))\n",
        "vocab_size = len(chars)\n",
        "\n",
        "# create a mapping from characters to integers\n",
        "stoi = { ch:i for i,ch in enumerate(chars) }\n",
        "itos = { i:ch for i,ch in enumerate(chars) }\n",
        "encode = lambda s: [stoi[c] for c in s] # encoder: take a string, output a list of integers\n",
        "decode = lambda l: ''.join([itos[i] for i in l]) # decoder: take a list of integers, output a string\n",
        "\n",
        "# Train and test splits\n",
        "data = torch.tensor(encode(text), dtype=torch.long)\n",
        "n = int(0.9*len(data)) # first 90% will be train, rest val\n",
        "train_data = data[:n]\n",
        "val_data = data[n:]\n",
        "\n",
        "# data loading\n",
        "def get_batch(split):\n",
        "    # generate a small batch of data of inputs x and targets y\n",
        "    data = train_data if split == 'train' else val_data\n",
        "    ix = torch.randint(len(data) - block_size, (batch_size,))\n",
        "    x = torch.stack([data[i:i+block_size] for i in ix])\n",
        "    y = torch.stack([data[i+1:i+block_size+1] for i in ix])\n",
        "    x, y = x.to(device), y.to(device)\n",
        "    return x, y"
      ],
      "metadata": {
        "id": "clw8Ixes1brO",
        "outputId": "6dec8051-c670-4bae-fe7f-7e1209c586db",
        "colab": {
          "base_uri": "https://localhost:8080/"
        }
      },
      "execution_count": null,
      "outputs": [
        {
          "output_type": "stream",
          "name": "stdout",
          "text": [
            "--2024-05-06 11:11:56--  https://raw.githubusercontent.com/karpathy/char-rnn/master/data/tinyshakespeare/input.txt\n",
            "Resolving raw.githubusercontent.com (raw.githubusercontent.com)... 185.199.108.133, 185.199.109.133, 185.199.110.133, ...\n",
            "Connecting to raw.githubusercontent.com (raw.githubusercontent.com)|185.199.108.133|:443... connected.\n",
            "HTTP request sent, awaiting response... 200 OK\n",
            "Length: 1115394 (1.1M) [text/plain]\n",
            "Saving to: ‘input.txt’\n",
            "\n",
            "\rinput.txt             0%[                    ]       0  --.-KB/s               \rinput.txt           100%[===================>]   1.06M  --.-KB/s    in 0.05s   \n",
            "\n",
            "2024-05-06 11:11:56 (19.6 MB/s) - ‘input.txt’ saved [1115394/1115394]\n",
            "\n"
          ]
        }
      ]
    },
    {
      "cell_type": "code",
      "source": [
        "len(train_data)"
      ],
      "metadata": {
        "id": "E2EyqK1tDE-t",
        "outputId": "daa12deb-2f04-4547-c3e7-889e0a871c48",
        "colab": {
          "base_uri": "https://localhost:8080/"
        }
      },
      "execution_count": null,
      "outputs": [
        {
          "output_type": "execute_result",
          "data": {
            "text/plain": [
              "1003854"
            ]
          },
          "metadata": {},
          "execution_count": 4
        }
      ]
    },
    {
      "cell_type": "code",
      "source": [
        "@torch.no_grad()\n",
        "def estimate_loss():\n",
        "    out = {}\n",
        "    model.eval()\n",
        "    for split in ['train', 'val']:\n",
        "        losses = torch.zeros(eval_iters)\n",
        "        for k in range(eval_iters):\n",
        "            X, Y = get_batch(split)\n",
        "            logits, loss = model(X, Y)\n",
        "            losses[k] = loss.item()\n",
        "        out[split] = losses.mean()\n",
        "    model.train()\n",
        "    return out\n",
        "\n",
        "class Head(nn.Module):\n",
        "    \"\"\" one head of self-attention \"\"\"\n",
        "\n",
        "    def __init__(self, head_size):\n",
        "        super().__init__()\n",
        "        self.key = nn.Linear(n_embd, head_size, bias=False)\n",
        "        self.query = nn.Linear(n_embd, head_size, bias=False)\n",
        "        self.value = nn.Linear(n_embd, head_size, bias=False)\n",
        "        # register_buffer is typically used to register a buffer that should not to be considered a model parameter.\n",
        "        # The buffer can be accessed from this module using the given name\n",
        "        self.register_buffer('tril', torch.tril(torch.ones(block_size, block_size))) # the lower triangular part of the matrix\n",
        "\n",
        "        # self.dropout = nn.Dropout(dropout)\n",
        "\n",
        "    def forward(self, x):\n",
        "        B,T,C = x.shape\n",
        "        k = self.key(x)   # (Batch,Time,Channel)\n",
        "        q = self.query(x) # (B,T,C)\n",
        "        # compute attention scores (\"affinities\")\n",
        "        wei = q @ k.transpose(-2,-1) * C**-0.5 # (B, T, C) @ (B, C, T) -> (B, T, T), C**-0.5 is to make softmax less peaky\n",
        "        wei = wei.masked_fill(self.tril[:T, :T] == 0, float('-inf')) # (B, T, T) # mask future tokens\n",
        "        wei = F.softmax(wei, dim=-1) # (B, T, T)\n",
        "        # wei = self.dropout(wei)\n",
        "        # perform the weighted aggregation of the values\n",
        "        v = self.value(x) # (B,T,head_size)\n",
        "        out = wei @ v # (B, T, T) @ (B, T, head_size) -> (B, T, head_size)\n",
        "        return out\n",
        "\n",
        "class MultiHeadAttention(nn.Module):\n",
        "    \"\"\" multiple heads of self-attention in parallel \"\"\"\n",
        "\n",
        "    def __init__(self, num_heads, head_size):\n",
        "        super().__init__()\n",
        "        self.heads = nn.ModuleList([Head(head_size) for _ in range(num_heads)])\n",
        "        self.proj = nn.Linear(n_embd, n_embd)\n",
        "        # self.dropout = nn.Dropout(dropout)\n",
        "\n",
        "    def forward(self, x):\n",
        "        out = torch.cat([h(x) for h in self.heads], dim=-1)\n",
        "        # out = self.dropout(self.proj(out))\n",
        "        return out\n",
        "\n",
        "class FeedFoward(nn.Module):\n",
        "    \"\"\" a simple linear layer followed by a non-linearity \"\"\"\n",
        "\n",
        "    def __init__(self, n_embd):\n",
        "        super().__init__()\n",
        "        self.net = nn.Sequential(\n",
        "            nn.Linear(n_embd, 4 * n_embd),\n",
        "            nn.ReLU(),\n",
        "            nn.Linear(4 * n_embd, n_embd),\n",
        "            nn.Dropout(dropout),\n",
        "        )\n",
        "\n",
        "    def forward(self, x):\n",
        "        return self.net(x)\n",
        "\n",
        "class Block(nn.Module):\n",
        "    \"\"\" Transformer block: communication followed by computation \"\"\"\n",
        "\n",
        "    def __init__(self, n_embd, n_head):\n",
        "        # n_embd: embedding dimension, n_head: the number of heads we'd like\n",
        "        super().__init__()\n",
        "        head_size = n_embd // n_head # so that the concat multihead will have same dimension as n_embed, here we have each head size = 64/4\n",
        "        self.sa = MultiHeadAttention(n_head, head_size) # multihead has more communication channels than single head\n",
        "        self.ffwd = FeedFoward(n_embd)\n",
        "        self.ln1 = nn.LayerNorm(n_embd) # similar to batchNorm, but normalize the rows instead of columns\n",
        "        self.ln2 = nn.LayerNorm(n_embd)\n",
        "\n",
        "    def forward(self, x):\n",
        "        x = x + self.sa(self.ln1(x))\n",
        "        x = x + self.ffwd(self.ln2(x))\n",
        "        return x\n",
        "\n",
        "# super simple bigram model\n",
        "class BigramLanguageModel(nn.Module):\n",
        "\n",
        "    def __init__(self):\n",
        "        super().__init__()\n",
        "        # each token directly reads off the logits for the next token from a lookup table\n",
        "        self.token_embedding_table = nn.Embedding(vocab_size, n_embd)\n",
        "        self.position_embedding_table = nn.Embedding(block_size, n_embd)\n",
        "        self.blocks = nn.Sequential(*[Block(n_embd, n_head=n_head) for _ in range(n_layer)])\n",
        "        self.ln_f = nn.LayerNorm(n_embd) # final layer norm\n",
        "        self.lm_head = nn.Linear(n_embd, vocab_size)\n",
        "\n",
        "    def forward(self, idx, targets=None):\n",
        "        B, T = idx.shape\n",
        "\n",
        "        # (token_embbeding + pos_embbeding)->layerNorm->MultiHead self-attention\n",
        "        # ->Add(residual)->layerNorm->ffwd->Add->final layerNorm->vocab_size\n",
        "\n",
        "        # idx and targets are both (B,T) tensor of integers\n",
        "        tok_emb = self.token_embedding_table(idx) # (B,T,C)\n",
        "        pos_emb = self.position_embedding_table(torch.arange(T, device=device)) # (T,C)\n",
        "        x = tok_emb + pos_emb # (B,T,C)\n",
        "        x = self.blocks(x) # (B,T,C)\n",
        "        x = self.ln_f(x) # (B,T,C)\n",
        "        logits = self.lm_head(x) # (B,T,vocab_size)\n",
        "\n",
        "        if targets is None:\n",
        "            loss = None\n",
        "        else:\n",
        "            B, T, C = logits.shape\n",
        "            logits = logits.view(B*T, C)\n",
        "            targets = targets.view(B*T)\n",
        "            loss = F.cross_entropy(logits, targets)\n",
        "\n",
        "        return logits, loss\n",
        "\n",
        "    def generate(self, idx, max_new_tokens):\n",
        "        # idx is (B, T) array of indices in the current context\n",
        "        for _ in range(max_new_tokens):\n",
        "            # crop idx to the last block_size tokens\n",
        "            idx_cond = idx[:, -block_size:]\n",
        "            # get the predictions\n",
        "            logits, loss = self(idx_cond) # logits = (B,T,vocab_size)\n",
        "            # focus only on the last time step\n",
        "            logits = logits[:, -1, :] # becomes (B, C)\n",
        "            # apply softmax to get probabilities\n",
        "            probs = F.softmax(logits, dim=-1) # (B, C)\n",
        "            # sample from the distribution\n",
        "            idx_next = torch.multinomial(probs, num_samples=1) # (B, 1)\n",
        "            # append sampled index to the running sequence\n",
        "            idx = torch.cat((idx, idx_next), dim=1) # (B, T+1)\n",
        "        return idx\n"
      ],
      "metadata": {
        "id": "emKh0Sss1n4r"
      },
      "execution_count": null,
      "outputs": []
    },
    {
      "cell_type": "code",
      "source": [
        "model = BigramLanguageModel()\n",
        "m = model.to(device)\n",
        "# print the number of parameters in the model\n",
        "print(sum(p.numel() for p in m.parameters())/1e6, 'M parameters')"
      ],
      "metadata": {
        "id": "N-xXgZ3b2PX4",
        "outputId": "d593dd24-9e92-4caf-f9c3-1c74667a84f9",
        "colab": {
          "base_uri": "https://localhost:8080/"
        }
      },
      "execution_count": null,
      "outputs": [
        {
          "output_type": "stream",
          "name": "stdout",
          "text": [
            "0.209729 M parameters\n"
          ]
        }
      ]
    },
    {
      "cell_type": "code",
      "source": [
        "# create a PyTorch optimizer\n",
        "optimizer = torch.optim.AdamW(model.parameters(), lr=learning_rate)\n",
        "\n",
        "for iter in range(max_iters):\n",
        "\n",
        "    # every once in a while evaluate the loss on train and val sets\n",
        "    if iter % eval_interval == 0 or iter == max_iters - 1:\n",
        "        losses = estimate_loss()\n",
        "        print(f\"step {iter}: train loss {losses['train']:.4f}, val loss {losses['val']:.4f}\")\n",
        "\n",
        "    # sample a batch of data\n",
        "    xb, yb = get_batch('train')\n",
        "\n",
        "    # evaluate the loss\n",
        "    logits, loss = model(xb, yb)\n",
        "    optimizer.zero_grad(set_to_none=True)\n",
        "    loss.backward()\n",
        "    optimizer.step()\n",
        "\n",
        "# generate from the model\n",
        "context = torch.zeros((1, 1), dtype=torch.long, device=device)\n",
        "print(decode(m.generate(context, max_new_tokens=2000)[0].tolist()))"
      ],
      "metadata": {
        "id": "sOZX5oJ71u3g",
        "outputId": "8f9af305-1b28-40f0-96d7-01c27ed842a0",
        "colab": {
          "base_uri": "https://localhost:8080/"
        }
      },
      "execution_count": null,
      "outputs": [
        {
          "output_type": "stream",
          "name": "stdout",
          "text": [
            "step 0: train loss 4.4116, val loss 4.4022\n",
            "step 100: train loss 2.6568, val loss 2.6670\n",
            "step 200: train loss 2.5090, val loss 2.5058\n",
            "step 300: train loss 2.4194, val loss 2.4335\n",
            "step 400: train loss 2.3503, val loss 2.3567\n",
            "step 500: train loss 2.2964, val loss 2.3131\n",
            "step 600: train loss 2.2404, val loss 2.2494\n",
            "step 700: train loss 2.2043, val loss 2.2177\n",
            "step 800: train loss 2.1629, val loss 2.1856\n",
            "step 900: train loss 2.1240, val loss 2.1500\n",
            "step 1000: train loss 2.1015, val loss 2.1286\n",
            "step 1100: train loss 2.0685, val loss 2.1178\n",
            "step 1200: train loss 2.0382, val loss 2.0792\n",
            "step 1300: train loss 2.0251, val loss 2.0637\n",
            "step 1400: train loss 1.9940, val loss 2.0377\n",
            "step 1500: train loss 1.9691, val loss 2.0310\n",
            "step 1600: train loss 1.9631, val loss 2.0481\n",
            "step 1700: train loss 1.9402, val loss 2.0124\n",
            "step 1800: train loss 1.9091, val loss 1.9958\n",
            "step 1900: train loss 1.9069, val loss 1.9857\n",
            "step 2000: train loss 1.8835, val loss 1.9925\n",
            "step 2100: train loss 1.8699, val loss 1.9730\n",
            "step 2200: train loss 1.8584, val loss 1.9597\n",
            "step 2300: train loss 1.8541, val loss 1.9527\n",
            "step 2400: train loss 1.8412, val loss 1.9423\n",
            "step 2500: train loss 1.8159, val loss 1.9411\n",
            "step 2600: train loss 1.8222, val loss 1.9347\n",
            "step 2700: train loss 1.8097, val loss 1.9322\n",
            "step 2800: train loss 1.8011, val loss 1.9174\n",
            "step 2900: train loss 1.8024, val loss 1.9276\n",
            "step 3000: train loss 1.7929, val loss 1.9140\n",
            "step 3100: train loss 1.7686, val loss 1.9183\n",
            "step 3200: train loss 1.7549, val loss 1.9115\n",
            "step 3300: train loss 1.7564, val loss 1.9077\n",
            "step 3400: train loss 1.7538, val loss 1.8954\n",
            "step 3500: train loss 1.7379, val loss 1.8958\n",
            "step 3600: train loss 1.7259, val loss 1.8883\n",
            "step 3700: train loss 1.7280, val loss 1.8791\n",
            "step 3800: train loss 1.7193, val loss 1.8886\n",
            "step 3900: train loss 1.7200, val loss 1.8695\n",
            "step 4000: train loss 1.7137, val loss 1.8615\n",
            "step 4100: train loss 1.7141, val loss 1.8754\n",
            "step 4200: train loss 1.7045, val loss 1.8624\n",
            "step 4300: train loss 1.7004, val loss 1.8476\n",
            "step 4400: train loss 1.7074, val loss 1.8726\n",
            "step 4500: train loss 1.6920, val loss 1.8539\n",
            "step 4600: train loss 1.6896, val loss 1.8382\n",
            "step 4700: train loss 1.6828, val loss 1.8444\n",
            "step 4800: train loss 1.6671, val loss 1.8474\n",
            "step 4900: train loss 1.6731, val loss 1.8416\n",
            "step 4999: train loss 1.6671, val loss 1.8286\n",
            "\n",
            "ROMEO:\n",
            "But you fret, hell, whereIV: it they to duke I usprocely fittle offect I'll wanter.\n",
            "\n",
            "BONDINGHNOR:\n",
            "You! but usom upwor your myst gliman;\n",
            "This Iell thre sure hanch them nour gruars:\n",
            "Now to by betwereight, tow, go:\n",
            "Eve not, Doh souls shall; them Those not.\n",
            "\n",
            "LUCIO:\n",
            "Lord,----\n",
            "But thou sging them this my freceim\n",
            "sear\n",
            "By Look's to; contray\n",
            "futwair art sade but grove to him, he's subdore in that lest.\n",
            "\n",
            "GLOUCESTER:\n",
            "Faway, as I neat.\n",
            "\n",
            "MENRIZERENB:\n",
            "Olving this swame, but strave so grain.\n",
            "\n",
            "MENENIUS:\n",
            "Geniry's bigguardsly come;\n",
            "Haid trues forsweet, sirr.\n",
            "\n",
            "POMPEREY:\n",
            "These stonge toe as passon\n",
            "The from throw and potater?\n",
            "\n",
            "Secome:\n",
            "Henrath my in fortunue: my latchmant I late all that you by joyly us belt slinem.\n",
            "\n",
            "KING-\n",
            "FRUKHESS My shalt juntance: that you, prinring Afflorceling\n",
            "What colforth temine you wast shoult where forpend,\n",
            "And-finus I'll that confect I come,\n",
            "But; man.\n",
            "\n",
            "BRUCKINGHASS:\n",
            "On you, argive, with surnes diphnsbreath\n",
            "Herefare, name a dought, thou\n",
            "Then fathers mades exety with.\n",
            "\n",
            "GLOUCESTER:\n",
            "Fixe.\n",
            "Is I would madie, no an it that would patch evile turn than war.\n",
            "\n",
            "LUCENTIO:\n",
            "I usquelch here crovides.\n",
            "\n",
            "PUARIEE:\n",
            "It that advoutly since, and marry.\n",
            "Mut wondy worse is senst my long.\n",
            "\n",
            "YORYVUPURENCELIO:\n",
            "Yest humast of the loves my lord:\n",
            "New, his stort not his morst.\n",
            "You more, to\n",
            "nom a rathing if thyseal,\n",
            "On think, if by yold, thou how onferds frulling.\n",
            "\n",
            "RICHARD:\n",
            "The steam, it you:\n",
            "Onfull him it no ars. I so gettles,\n",
            "I ande such the cruntion the rest:\n",
            "My brive, he get belaw, with the his say\n",
            "as towns, pressions: you lom if curner,\n",
            "But unter, toges, by aft, fantes, Bety on the,\n",
            "Pronge unteett, thou make-banited?\n",
            "\n",
            "LORD GAURET:\n",
            "These what reagt say mover a desbriek which o' an the;\n",
            "O, you to\n",
            "mellike they us thus usspried with requmate,\n",
            "All leats, bretcius unfeece that I would back with wowith you wind you,\n",
            "My leave it. Delporte these, be to stless this high pray poolaful brittles sure make Destiture,\n",
            "At not yet have contress. Thou prant!\n",
            "O,' you goligh you. Come flippown,\n",
            "And fatt\n"
          ]
        }
      ]
    },
    {
      "cell_type": "markdown",
      "source": [
        "# Task 1.3 modify the Chatbot"
      ],
      "metadata": {
        "id": "1XzfnTSVA8g4"
      }
    },
    {
      "cell_type": "code",
      "source": [
        "class LSTM(nn.Module):\n",
        "    def __init__(self, hidden_size = 25):\n",
        "        super(LSTM, self).__init__()\n",
        "        num_layers = 1\n",
        "        self.token_embedding_table = nn.Embedding(vocab_size, n_embd)\n",
        "        # Recurrent layer\n",
        "        self.lstm = nn.LSTM(input_size=vocab_size,\n",
        "                         hidden_size=hidden_size,\n",
        "                         num_layers=num_layers,\n",
        "                         bidirectional=False,\n",
        "                         batch_first=True)\n",
        "\n",
        "        # Output layer\n",
        "        self.l_out = nn.Linear(in_features=hidden_size,\n",
        "                            out_features=vocab_size, # out_features modified from 2 (binary classification) to vocab_size\n",
        "                            bias=False)\n",
        "\n",
        "    def forward(self, x, targets=None):\n",
        "        # RNN returns output and last hidden state\n",
        "\n",
        "        x = self.token_embedding_table(x)\n",
        "\n",
        "\n",
        "        x, (h, c) = self.lstm(x)\n",
        "        # Output layer\n",
        "        x = self.l_out(x)\n",
        "        B, S, C = x.shape\n",
        "        if targets is None:\n",
        "          loss = None\n",
        "        else:\n",
        "          x = x.view(B*S, C)\n",
        "          targets = targets.view(B*S)\n",
        "          loss = F.cross_entropy(x, targets)\n",
        "        return x, loss\n",
        "\n",
        "    def generate(self, idx, max_new_tokens):\n",
        "        # idx is (B, T) array of indices in the current context\n",
        "        for _ in range(max_new_tokens):\n",
        "            # crop idx to the last block_size tokens\n",
        "            idx_cond = idx[:, -block_size:]\n",
        "            # get the predictions\n",
        "            logits, loss = self(idx_cond)\n",
        "            # focus only on the last time step\n",
        "            logits = logits[:, -1, :] # becomes (B, C)\n",
        "            # apply softmax to get probabilities\n",
        "            probs = F.softmax(logits, dim=-1) # (B, C)\n",
        "            # sample from the distribution\n",
        "            idx_next = torch.multinomial(probs, num_samples=1) # (B, 1)\n",
        "            # append sampled index to the running sequence\n",
        "            idx = torch.cat((idx, idx_next), dim=1) # (B, T+1)\n",
        "        return idx"
      ],
      "metadata": {
        "id": "08hb-UZwBF8S"
      },
      "execution_count": null,
      "outputs": []
    },
    {
      "cell_type": "code",
      "source": [
        "model = LSTM()\n",
        "m = model.to(device)\n",
        "print(sum(p.numel() for p in m.parameters())/1e6, 'M parameters')"
      ],
      "metadata": {
        "id": "R38ZrWLVGC6Q",
        "colab": {
          "base_uri": "https://localhost:8080/"
        },
        "outputId": "cd034c27-3149-48f2-dacf-a13f098d4175"
      },
      "execution_count": null,
      "outputs": [
        {
          "output_type": "stream",
          "name": "stdout",
          "text": [
            "0.014985 M parameters\n"
          ]
        }
      ]
    },
    {
      "cell_type": "code",
      "source": [
        "# create a PyTorch optimizer\n",
        "optimizer = torch.optim.AdamW(model.parameters(), lr=learning_rate)\n",
        "eval_interval = 200\n",
        "\n",
        "for iter in range(max_iters):\n",
        "      # every once in a while evaluate the loss on train and val sets\n",
        "    if iter % eval_interval == 0 or iter == max_iters - 1:\n",
        "        losses = estimate_loss()\n",
        "        print(f\"step {iter}: train loss {losses['train']:.4f}, val loss {losses['val']:.4f}\")\n",
        "\n",
        "    # sample a batch of data\n",
        "    xb, yb = get_batch('train')\n",
        "    # evaluate the loss\n",
        "    logits, loss = model(xb, yb)\n",
        "    optimizer.zero_grad(set_to_none=True)\n",
        "    loss.backward()\n",
        "    optimizer.step()\n"
      ],
      "metadata": {
        "id": "WsjgjILaGIcq",
        "outputId": "5f98b0be-cc70-4813-c0c9-4691a8717221",
        "colab": {
          "base_uri": "https://localhost:8080/"
        }
      },
      "execution_count": null,
      "outputs": [
        {
          "output_type": "stream",
          "name": "stdout",
          "text": [
            "step 0: train loss 4.1846, val loss 4.1852\n",
            "step 200: train loss 2.8770, val loss 2.8831\n",
            "step 400: train loss 2.5679, val loss 2.5712\n",
            "step 600: train loss 2.4421, val loss 2.4487\n",
            "step 800: train loss 2.3760, val loss 2.3792\n",
            "step 1000: train loss 2.3293, val loss 2.3447\n",
            "step 1200: train loss 2.2939, val loss 2.3063\n",
            "step 1400: train loss 2.2721, val loss 2.2899\n",
            "step 1600: train loss 2.2468, val loss 2.2541\n",
            "step 1800: train loss 2.2113, val loss 2.2353\n",
            "step 2000: train loss 2.1967, val loss 2.2105\n",
            "step 2200: train loss 2.1798, val loss 2.2026\n",
            "step 2400: train loss 2.1647, val loss 2.1880\n",
            "step 2600: train loss 2.1492, val loss 2.1763\n",
            "step 2800: train loss 2.1363, val loss 2.1695\n",
            "step 3000: train loss 2.1254, val loss 2.1523\n",
            "step 3200: train loss 2.0989, val loss 2.1508\n",
            "step 3400: train loss 2.0957, val loss 2.1416\n",
            "step 3600: train loss 2.0979, val loss 2.1349\n",
            "step 3800: train loss 2.0809, val loss 2.1321\n",
            "step 4000: train loss 2.0803, val loss 2.1231\n",
            "step 4200: train loss 2.0726, val loss 2.1207\n",
            "step 4400: train loss 2.0619, val loss 2.1109\n",
            "step 4600: train loss 2.0532, val loss 2.1125\n",
            "step 4800: train loss 2.0470, val loss 2.0980\n",
            "step 4999: train loss 2.0407, val loss 2.0920\n"
          ]
        }
      ]
    },
    {
      "cell_type": "code",
      "source": [
        "# generate from the model\n",
        "context = torch.zeros((1, 1), dtype=torch.long, device=device)\n",
        "print(decode(m.generate(context, max_new_tokens=2000)[0].tolist()))"
      ],
      "metadata": {
        "id": "rtl6_o4iuRqF",
        "outputId": "39fa8763-256a-4a24-ae02-0400821067de",
        "colab": {
          "base_uri": "https://localhost:8080/"
        }
      },
      "execution_count": null,
      "outputs": [
        {
          "output_type": "stream",
          "name": "stdout",
          "text": [
            "\n",
            "My Tourd to he mantecnctir shiosh nos and the by's thasbathory hese.\n",
            "\n",
            "QUEPEZIO:\n",
            "\n",
            "JUKAELY:\n",
            "Men ond a not a perd\n",
            "st;\n",
            "And sution\n",
            "suntut\n",
            "and the Gare. you.\n",
            "\n",
            "HORENTIZIO:\n",
            "For hy for onreilt ose ther, eapachers, this the u's sastly Anding? Will'd to me\n",
            "And prike whlald serinn'll he our moneiebimpe of arords; Srind nit.\n",
            "\n",
            "COMIOLIRY:\n",
            "I fore speark mell me ton tarn\n",
            "Ind wen this and hit, onofe a doud\n",
            "Siliote\n",
            "Not cobt has were blaiosel-of crajestath\n",
            "Or boed my tharldhath rvereing eat! itistarn thomuch in bows,\n",
            "brays bent to mayerst, lite utaiw then whacyere arick, Hord, ond ats thin an dem, nous my dy.\n",
            "\n",
            "No Ill senst siling, broveed\n",
            "Prord the thand, hastiras whorr mast hee protherch lot dot rilice:\n",
            "Hy pot dithen:\n",
            "of and\n",
            "Hore, ome, thy sir, whts anthy to fath\n",
            "Bou tronter hin the wiml; Boy thmunse.\n",
            "\n",
            "GLUKE LARENND CANCUS:\n",
            "Ther; me uplocrither torh kid;\n",
            "\n",
            "KCARDI3B ebai: dormayent thet, hear,\n",
            "Wronce aqufrord wiml our nose If on heath thase Gokefemsom!\n",
            "No be in so. I rone yo wimade, the notrentoup mes the deaghing,\n",
            "in thime thing heer hees hich. erscied niveest crome sharash.\n",
            "\n",
            "GREOWALIUS:\n",
            "\n",
            "Thaf most\n",
            "Ased sht I it as sering,\n",
            "Ton he I the plater the nongan to the voarsty's thco'd\n",
            "Of hom his fing gimes, to pirshant, all wno sow his yas win\n",
            "sharst as to moust\n",
            "And here op.\n",
            "\n",
            "PORWRI:\n",
            "Dospurtpengeathan\n",
            "soul the shou thing and fare bijestroorch she ilt! Morro me my faot son titter.  one wis he greby thou gere josdine for\n",
            "We spiome!\n",
            "Theres.\n",
            "\n",
            "KINDBY:\n",
            "Your meen whlat greal!\n",
            "\n",
            "HOFhorf:\n",
            "Ay.\n",
            "\n",
            "Seccill heard? hane\n",
            "To mrondspil thow thwing nit by tour his my Ay\n",
            "fatoged my mirt, grair, feal?\n",
            "\n",
            "Col gravinst I mume a gof wark, by thind chip his theefter maond them;\n",
            "Sere I ild noth wourt my so I make, me the lis am daknes, in Wan lodak conde now\n",
            "o tupengen, masgeve and poed\n",
            "Gore to lay me trepue dother fachistle tlamen,\n",
            "The with beem of Sir hobtill with! I dary kins, and nother did to glokkest dow truchsle,\n",
            "O old your, yof usty hety seakre id I his ilk sin shere suue do, I  kof frin your to hithe.\n",
            "Womisirar, o\n"
          ]
        }
      ]
    },
    {
      "cell_type": "markdown",
      "source": [
        "TF-IDF is a simple, easy-to-understand method for vectorizing text based on word frequencies but it does not capture the context or semantic relationships between words.\n",
        "nn.embedding offer a more nuanced representation that captures semantic meaning and is learned from the data itself.\n",
        "\n",
        "Transformers use attention to weigh the importance of different parts of the input data. Transformers often outperform LSTMs on tasks involving long-range dependencies due to their attention mechanism. LSTMs can perform better than Transformers when the available dataset is relatively small because Transformers often require large amounts of data to generalize well. In our lab task2 transformer has 0.21 M parameters and task 3 LSTM model has 0.015 M parameters"
      ],
      "metadata": {
        "id": "pAgoEInyde83"
      }
    }
  ]
}