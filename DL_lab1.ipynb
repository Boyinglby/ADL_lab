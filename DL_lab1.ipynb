{
  "nbformat": 4,
  "nbformat_minor": 0,
  "metadata": {
    "colab": {
      "provenance": [],
      "authorship_tag": "ABX9TyNiSqjJLV57uV2c6nP5gbBJ",
      "include_colab_link": true
    },
    "kernelspec": {
      "name": "python3",
      "display_name": "Python 3"
    },
    "language_info": {
      "name": "python"
    }
  },
  "cells": [
    {
      "cell_type": "markdown",
      "metadata": {
        "id": "view-in-github",
        "colab_type": "text"
      },
      "source": [
        "<a href=\"https://colab.research.google.com/github/Boyinglby/ADL_lab/blob/main/DL_lab1.ipynb\" target=\"_parent\"><img src=\"https://colab.research.google.com/assets/colab-badge.svg\" alt=\"Open In Colab\"/></a>"
      ]
    },
    {
      "cell_type": "code",
      "source": [
        "import torch\n",
        "import torch.nn as nn\n",
        "import torch.optim as optim\n",
        "import torch.nn.functional as F\n",
        "from torch.utils.data import TensorDataset, DataLoader\n",
        "import numpy as np\n",
        "from matplotlib import pyplot\n",
        "import pandas as pd\n",
        "from sklearn.model_selection import train_test_split\n",
        "from sklearn.feature_extraction.text import TfidfVectorizer\n",
        "from nltk.corpus import stopwords\n",
        "from nltk import word_tokenize\n",
        "from sklearn.metrics import accuracy_score, confusion_matrix, precision_score, recall_score, classification_report"
      ],
      "metadata": {
        "id": "Ts5rnSUZHHQ1"
      },
      "execution_count": 1,
      "outputs": []
    },
    {
      "cell_type": "markdown",
      "source": [
        "# Load and preprocess data"
      ],
      "metadata": {
        "id": "SHlaDAVvFoxb"
      }
    },
    {
      "cell_type": "code",
      "execution_count": 2,
      "metadata": {
        "id": "Vecgo9StF8YY"
      },
      "outputs": [],
      "source": [
        "def preprocess_pandas(data, columns):\n",
        "    df_ = pd.DataFrame(columns=columns)\n",
        "    data['Sentence'] = data['Sentence'].str.lower()\n",
        "    data['Sentence'] = data['Sentence'].replace('[a-zA-Z0-9-_.]+@[a-zA-Z0-9-_.]+', '', regex=True)                      # remove emails\n",
        "    data['Sentence'] = data['Sentence'].replace('((25[0-5]|2[0-4][0-9]|[01]?[0-9][0-9]?)(\\.|$)){4}', '', regex=True)    # remove IP address\n",
        "    data['Sentence'] = data['Sentence'].str.replace('[^\\w\\s]','')                                                       # remove special characters\n",
        "    data['Sentence'] = data['Sentence'].replace('\\d', '', regex=True)                                                   # remove numbers\n",
        "    for index, row in data.iterrows():\n",
        "        word_tokens = word_tokenize(row['Sentence'])\n",
        "        filtered_sent = [w for w in word_tokens if not w in stopwords.words('english')]\n",
        "        df_ = pd.concat([df_, pd.DataFrame({\n",
        "            \"index\": row['index'],\n",
        "            \"Class\": row['Class'],\n",
        "            \"Sentence\": \" \".join(filtered_sent[0:])\n",
        "        }, index = [row['index']])],ignore_index=True)\n",
        "    return df_"
      ]
    },
    {
      "cell_type": "code",
      "source": [
        "# get data, pre-process and split\n",
        "data = pd.read_csv(\"amazon_cells_labelled.txt\", delimiter='\\t', header=None)\n",
        "data.columns = ['Sentence', 'Class']\n",
        "data['index'] = data.index                                          # add new column index\n",
        "columns = ['index', 'Class', 'Sentence']"
      ],
      "metadata": {
        "id": "gUJ7870nG5XP"
      },
      "execution_count": 3,
      "outputs": []
    },
    {
      "cell_type": "code",
      "source": [
        "# Import the NLTK library\n",
        "import nltk\n",
        "nltk.download('punkt')\n",
        "nltk.download('stopwords')\n",
        "data = preprocess_pandas(data, columns)                             # pre-process\n"
      ],
      "metadata": {
        "colab": {
          "base_uri": "https://localhost:8080/"
        },
        "id": "T4N7c4qRIGA2",
        "outputId": "88db1135-2bf5-4560-a296-a844c35bc284"
      },
      "execution_count": 4,
      "outputs": [
        {
          "output_type": "stream",
          "name": "stderr",
          "text": [
            "[nltk_data] Downloading package punkt to /root/nltk_data...\n",
            "[nltk_data]   Package punkt is already up-to-date!\n",
            "[nltk_data] Downloading package stopwords to /root/nltk_data...\n",
            "[nltk_data]   Package stopwords is already up-to-date!\n"
          ]
        }
      ]
    },
    {
      "cell_type": "code",
      "source": [
        "training_data_r, validation_data_r, training_labels, validation_labels = train_test_split( # split the data into training, validation, and test splits\n",
        "        data['Sentence'].values.astype('U'),\n",
        "        data['Class'].values.astype('int32'),\n",
        "        test_size=0.10,\n",
        "        random_state=0,\n",
        "        shuffle=True\n",
        "    )"
      ],
      "metadata": {
        "id": "7UOkYJVsIeq2"
      },
      "execution_count": 19,
      "outputs": []
    },
    {
      "cell_type": "code",
      "source": [
        "# vectorize data using TFIDF and transform for PyTorch for scalability\n",
        "word_vectorizer = TfidfVectorizer(analyzer='word', ngram_range=(1,2), max_features=50000, max_df=0.5, use_idf=True, norm='l2')\n",
        "training_data = word_vectorizer.fit_transform(training_data_r)        # transform texts to sparse matrix\n",
        "training_data = training_data.todense()                             # convert to dense matrix for Pytorch\n",
        "\n",
        "vocab_size = len(word_vectorizer.vocabulary_)\n",
        "\n",
        "validation_data = word_vectorizer.transform(validation_data_r)\n",
        "validation_data = validation_data.todense()\n",
        "\n",
        "train_x_tensor = torch.from_numpy(np.array(training_data)).type(torch.FloatTensor)\n",
        "train_y_tensor = torch.from_numpy(np.array(training_labels)).long()\n",
        "\n",
        "validation_x_tensor = torch.from_numpy(np.array(validation_data)).type(torch.FloatTensor)\n",
        "validation_y_tensor = torch.from_numpy(np.array(validation_labels)).long()"
      ],
      "metadata": {
        "id": "ImZ9MIsBPNts"
      },
      "execution_count": 20,
      "outputs": []
    },
    {
      "cell_type": "markdown",
      "source": [
        "# LSTM model"
      ],
      "metadata": {
        "id": "Ah7dtSuDFlT4"
      }
    },
    {
      "cell_type": "code",
      "source": [
        "import torch\n",
        "import torch.nn as nn\n",
        "import torch.nn.functional as F\n",
        "\n",
        "out_nr = 2\n",
        "\n",
        "class LSTM(nn.Module):\n",
        "    def __init__(self, hidden_size = 25):\n",
        "        super(LSTM, self).__init__()\n",
        "        num_layers = 1\n",
        "        # Recurrent layer\n",
        "        # TODO:\n",
        "        self.lstm = nn.LSTM(input_size=vocab_size,\n",
        "                         hidden_size=hidden_size,\n",
        "                         num_layers=num_layers,\n",
        "                         bidirectional=False)\n",
        "\n",
        "        # Output layer\n",
        "        self.l_out = nn.Linear(in_features=hidden_size,\n",
        "                            out_features=out_nr,\n",
        "                            bias=False)\n",
        "\n",
        "    def forward(self, x):\n",
        "        # RNN returns output and last hidden state\n",
        "        # TODO:\n",
        "        x, (h, c) = self.lstm(x)\n",
        "\n",
        "        # Flatten output for feed-forward layer\n",
        "        x = x.view(-1, self.lstm.hidden_size)\n",
        "\n",
        "        # Output layer\n",
        "        # TODO:\n",
        "        x = self.l_out(x)\n",
        "\n",
        "        return x"
      ],
      "metadata": {
        "id": "tkyZ8WUrFGWD"
      },
      "execution_count": 7,
      "outputs": []
    },
    {
      "cell_type": "code",
      "source": [
        "# Initialise our network\n",
        "model = LSTM()\n",
        "print(model)\n",
        "min_LSTM_loss = 10000\n",
        "\n",
        "# Store training and validation loss\n",
        "training_loss, validation_loss = [], []\n",
        "\n",
        "# Define a loss function and optimizer for this problem\n",
        "criterion = nn.CrossEntropyLoss()\n",
        "# criterion = nn.BCELoss()\n",
        "optimizer = torch.optim.Adam(model.parameters(), lr=3e-3)\n",
        "# A way to get learning rate decay\n",
        "scheduler = torch.optim.lr_scheduler.StepLR(optimizer, step_size=30, gamma=0.9)"
      ],
      "metadata": {
        "colab": {
          "base_uri": "https://localhost:8080/"
        },
        "id": "pDZaazAOGCfV",
        "outputId": "1e37d4e1-60c6-4436-f395-0621906594bc"
      },
      "execution_count": 8,
      "outputs": [
        {
          "output_type": "stream",
          "name": "stdout",
          "text": [
            "LSTM(\n",
            "  (lstm): LSTM(5145, 25)\n",
            "  (l_out): Linear(in_features=25, out_features=2, bias=False)\n",
            ")\n"
          ]
        }
      ]
    },
    {
      "cell_type": "code",
      "source": [
        "# one hot encode label\n",
        "to_onehot = nn.Embedding(1, 2)\n",
        "to_onehot.weight.data = torch.eye(2)"
      ],
      "metadata": {
        "id": "NBIcj5zFXR8P"
      },
      "execution_count": 9,
      "outputs": []
    },
    {
      "cell_type": "code",
      "source": [
        "# Hyper-parameters\n",
        "num_epochs = 5\n",
        "\n",
        "import matplotlib.pyplot as plt\n",
        "%matplotlib inline\n",
        "\n",
        "# For each epoch\n",
        "for i in range(num_epochs):\n",
        "\n",
        "    # Track loss\n",
        "    epoch_training_loss = 0\n",
        "    epoch_validation_loss = 0\n",
        "\n",
        "    model.eval()\n",
        "\n",
        "    # For each sentence in validation set\n",
        "    for i in range(len(validation_x_tensor)):\n",
        "\n",
        "        # Forward pass\n",
        "\n",
        "        outputs = model.forward(validation_x_tensor[i].reshape(1,vocab_size))\n",
        "        # Compute loss\n",
        "        loss = criterion(outputs[0], to_onehot(validation_y_tensor[i]))\n",
        "\n",
        "        if loss<min_LSTM_loss:\n",
        "            torch.save(model, 'best_model.pt')\n",
        "\n",
        "        # Update loss\n",
        "        epoch_validation_loss += loss.detach().numpy()\n",
        "\n",
        "    model.train()\n",
        "\n",
        "    # For each sentence in training set\n",
        "    for j in range(len(train_x_tensor)):\n",
        "\n",
        "        # Forward pass\n",
        "        outputs = model.forward(train_x_tensor[j].reshape(1,vocab_size))\n",
        "\n",
        "        # Compute loss\n",
        "        # TODO:\n",
        "        loss = criterion(outputs[0], to_onehot(train_y_tensor[j]))\n",
        "\n",
        "        # Reset gradients\n",
        "        # TODO:\n",
        "        optimizer.zero_grad()\n",
        "        # Compute gradients\n",
        "        # TODO:\n",
        "        loss.backward()\n",
        "        # Update weights\n",
        "        # TODO:\n",
        "        optimizer.step()\n",
        "\n",
        "        # Update learning rate (advanced technique, can be ignored)\n",
        "        scheduler.step()\n",
        "\n",
        "        # Update loss\n",
        "        epoch_training_loss += loss.detach().numpy()\n",
        "\n",
        "    # Save loss for plot\n",
        "    training_loss.append(epoch_training_loss/len(train_x_tensor))\n",
        "    validation_loss.append(epoch_validation_loss/len(validation_x_tensor))\n",
        "\n",
        "    # Print loss every 5 epochs\n",
        "    if i % 5 == 0:\n",
        "        print(f'Epoch {i}, training loss: {training_loss[-1]}, validation loss: {validation_loss[-1]}')\n",
        "\n",
        "# Plot training and validation loss\n",
        "epoch = np.arange(len(training_loss))\n",
        "\n",
        "# Forward pass\n",
        "# TODO:\n",
        "best_model = LSTM()\n",
        "best_model = torch.load('best_model.pt')"
      ],
      "metadata": {
        "id": "Wcul7eD8GDT2"
      },
      "execution_count": null,
      "outputs": []
    },
    {
      "cell_type": "code",
      "source": [
        "# plot loss curve\n",
        "plt.figure()\n",
        "plt.plot(epoch, training_loss, 'r', label='Training loss',)\n",
        "plt.plot(epoch, validation_loss, 'b', label='Validation loss')\n",
        "plt.legend()\n",
        "plt.xlabel('Epoch'), plt.ylabel('NLL')\n",
        "plt.show()"
      ],
      "metadata": {
        "colab": {
          "base_uri": "https://localhost:8080/",
          "height": 449
        },
        "id": "xcunZPedZPTS",
        "outputId": "a3330801-bd2c-4bb8-9e24-df9cf1fe13c4"
      },
      "execution_count": 16,
      "outputs": [
        {
          "output_type": "display_data",
          "data": {
            "text/plain": [
              "<Figure size 640x480 with 1 Axes>"
            ],
            "image/png": "[encoded data removed]"
          },
          "metadata": {}
        }
      ]
    },
    {
      "cell_type": "code",
      "source": [
        "# Get first sentence in validation set\n",
        "inputs, targets = validation_x_tensor[0], validation_y_tensor[0]\n",
        "outputs = best_model.forward(inputs.reshape(1,vocab_size)).data.numpy()\n",
        "\n",
        "print('\\nInput sequence:')\n",
        "print(validation_data_r[0])\n",
        "\n",
        "print('\\nTarget sequence:')\n",
        "print(targets)\n",
        "\n",
        "preds = np.argmax(outputs)\n",
        "print('\\nPredicted sequence:')\n",
        "print(preds)"
      ],
      "metadata": {
        "colab": {
          "base_uri": "https://localhost:8080/"
        },
        "id": "WUeYrzDGaJlO",
        "outputId": "eb17d178-1d7f-43c1-8b63-dc4e392b503e"
      },
      "execution_count": 21,
      "outputs": [
        {
          "output_type": "stream",
          "name": "stdout",
          "text": [
            "\n",
            "Input sequence:\n",
            "disappointed .\n",
            "\n",
            "Target sequence:\n",
            "tensor(0)\n",
            "\n",
            "Predicted sequence:\n",
            "0\n"
          ]
        }
      ]
    }
  ]
}